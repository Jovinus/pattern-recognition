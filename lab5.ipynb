{
 "cells": [
  {
   "cell_type": "markdown",
   "metadata": {},
   "source": [
    "# 5.3 Lab: Cross-Validation and the Bootstrap"
   ]
  },
  {
   "cell_type": "markdown",
   "metadata": {},
   "source": [
    "## Load Auto data"
   ]
  },
  {
   "cell_type": "code",
   "execution_count": 58,
   "metadata": {},
   "outputs": [
    {
     "data": {
      "text/html": [
       "<div>\n",
       "<style scoped>\n",
       "    .dataframe tbody tr th:only-of-type {\n",
       "        vertical-align: middle;\n",
       "    }\n",
       "\n",
       "    .dataframe tbody tr th {\n",
       "        vertical-align: top;\n",
       "    }\n",
       "\n",
       "    .dataframe thead th {\n",
       "        text-align: right;\n",
       "    }\n",
       "</style>\n",
       "<table border=\"1\" class=\"dataframe\">\n",
       "  <thead>\n",
       "    <tr style=\"text-align: right;\">\n",
       "      <th></th>\n",
       "      <th>mpg</th>\n",
       "      <th>cylinders</th>\n",
       "      <th>displacement</th>\n",
       "      <th>horsepower</th>\n",
       "      <th>weight</th>\n",
       "      <th>acceleration</th>\n",
       "      <th>year</th>\n",
       "      <th>origin</th>\n",
       "      <th>name</th>\n",
       "    </tr>\n",
       "  </thead>\n",
       "  <tbody>\n",
       "    <tr>\n",
       "      <th>0</th>\n",
       "      <td>18.0</td>\n",
       "      <td>8</td>\n",
       "      <td>307.0</td>\n",
       "      <td>130</td>\n",
       "      <td>3504</td>\n",
       "      <td>12.0</td>\n",
       "      <td>70</td>\n",
       "      <td>1</td>\n",
       "      <td>chevrolet chevelle malibu</td>\n",
       "    </tr>\n",
       "    <tr>\n",
       "      <th>1</th>\n",
       "      <td>15.0</td>\n",
       "      <td>8</td>\n",
       "      <td>350.0</td>\n",
       "      <td>165</td>\n",
       "      <td>3693</td>\n",
       "      <td>11.5</td>\n",
       "      <td>70</td>\n",
       "      <td>1</td>\n",
       "      <td>buick skylark 320</td>\n",
       "    </tr>\n",
       "    <tr>\n",
       "      <th>2</th>\n",
       "      <td>18.0</td>\n",
       "      <td>8</td>\n",
       "      <td>318.0</td>\n",
       "      <td>150</td>\n",
       "      <td>3436</td>\n",
       "      <td>11.0</td>\n",
       "      <td>70</td>\n",
       "      <td>1</td>\n",
       "      <td>plymouth satellite</td>\n",
       "    </tr>\n",
       "    <tr>\n",
       "      <th>3</th>\n",
       "      <td>16.0</td>\n",
       "      <td>8</td>\n",
       "      <td>304.0</td>\n",
       "      <td>150</td>\n",
       "      <td>3433</td>\n",
       "      <td>12.0</td>\n",
       "      <td>70</td>\n",
       "      <td>1</td>\n",
       "      <td>amc rebel sst</td>\n",
       "    </tr>\n",
       "    <tr>\n",
       "      <th>4</th>\n",
       "      <td>17.0</td>\n",
       "      <td>8</td>\n",
       "      <td>302.0</td>\n",
       "      <td>140</td>\n",
       "      <td>3449</td>\n",
       "      <td>10.5</td>\n",
       "      <td>70</td>\n",
       "      <td>1</td>\n",
       "      <td>ford torino</td>\n",
       "    </tr>\n",
       "  </tbody>\n",
       "</table>\n",
       "</div>"
      ],
      "text/plain": [
       "    mpg  cylinders  displacement horsepower  weight  acceleration  year  \\\n",
       "0  18.0          8         307.0        130    3504          12.0    70   \n",
       "1  15.0          8         350.0        165    3693          11.5    70   \n",
       "2  18.0          8         318.0        150    3436          11.0    70   \n",
       "3  16.0          8         304.0        150    3433          12.0    70   \n",
       "4  17.0          8         302.0        140    3449          10.5    70   \n",
       "\n",
       "   origin                       name  \n",
       "0       1  chevrolet chevelle malibu  \n",
       "1       1          buick skylark 320  \n",
       "2       1         plymouth satellite  \n",
       "3       1              amc rebel sst  \n",
       "4       1                ford torino  "
      ]
     },
     "execution_count": 58,
     "metadata": {},
     "output_type": "execute_result"
    }
   ],
   "source": [
    "# load Auto dataset\n",
    "\n",
    "import pandas as pd\n",
    "import numpy as np\n",
    "import matplotlib.pyplot as plt\n",
    "import seaborn as sns\n",
    "%matplotlib inline\n",
    "\n",
    "Auto = pd.read_csv(\"data/Auto.csv\")\n",
    "Auto.head()"
   ]
  },
  {
   "cell_type": "code",
   "execution_count": 59,
   "metadata": {},
   "outputs": [
    {
     "name": "stdout",
     "output_type": "stream",
     "text": [
      "<class 'pandas.core.frame.DataFrame'>\n",
      "RangeIndex: 397 entries, 0 to 396\n",
      "Data columns (total 9 columns):\n",
      "mpg             397 non-null float64\n",
      "cylinders       397 non-null int64\n",
      "displacement    397 non-null float64\n",
      "horsepower      397 non-null object\n",
      "weight          397 non-null int64\n",
      "acceleration    397 non-null float64\n",
      "year            397 non-null int64\n",
      "origin          397 non-null int64\n",
      "name            397 non-null object\n",
      "dtypes: float64(3), int64(4), object(2)\n",
      "memory usage: 28.0+ KB\n"
     ]
    }
   ],
   "source": [
    "# more info\n",
    "Auto.info()"
   ]
  },
  {
   "cell_type": "code",
   "execution_count": 60,
   "metadata": {},
   "outputs": [
    {
     "name": "stdout",
     "output_type": "stream",
     "text": [
      "(397, 9)\n",
      "(392, 9)\n"
     ]
    }
   ],
   "source": [
    "# replace '?' in hoursepower with NaN\n",
    "Auto.replace(to_replace='?', value=np.nan, inplace=True)\n",
    "Auto.horsepower=np.float64(Auto.horsepower)\n",
    "print(Auto.shape)\n",
    "\n",
    "# drop sample with nan\n",
    "Auto.dropna(axis=0, how='any', inplace=True)\n",
    "print(Auto.shape)"
   ]
  },
  {
   "cell_type": "code",
   "execution_count": 61,
   "metadata": {},
   "outputs": [
    {
     "name": "stdout",
     "output_type": "stream",
     "text": [
      "<class 'pandas.core.frame.DataFrame'>\n",
      "Int64Index: 392 entries, 0 to 396\n",
      "Data columns (total 9 columns):\n",
      "mpg             392 non-null float64\n",
      "cylinders       392 non-null int64\n",
      "displacement    392 non-null float64\n",
      "horsepower      392 non-null float64\n",
      "weight          392 non-null int64\n",
      "acceleration    392 non-null float64\n",
      "year            392 non-null int64\n",
      "origin          392 non-null int64\n",
      "name            392 non-null object\n",
      "dtypes: float64(4), int64(4), object(1)\n",
      "memory usage: 30.6+ KB\n"
     ]
    }
   ],
   "source": [
    "Auto.info()"
   ]
  },
  {
   "cell_type": "markdown",
   "metadata": {},
   "source": [
    "## 5.3.1 The Validation Set Approach\n"
   ]
  },
  {
   "cell_type": "code",
   "execution_count": 62,
   "metadata": {},
   "outputs": [
    {
     "name": "stdout",
     "output_type": "stream",
     "text": [
      "(196, 9)\n",
      "(196, 9)\n"
     ]
    }
   ],
   "source": [
    "# sklearn has spliting method!\n",
    "from sklearn.model_selection import train_test_split\n",
    "# http://scikit-learn.org/stable/modules/generated/sklearn.model_selection.train_test_split.html\n",
    "\n",
    "train_set, test_set = train_test_split(Auto, test_size=0.5)\n",
    "print(train_set.shape)\n",
    "print(test_set.shape)"
   ]
  },
  {
   "cell_type": "markdown",
   "metadata": {},
   "source": [
    "### Linear regression"
   ]
  },
  {
   "cell_type": "code",
   "execution_count": 82,
   "metadata": {},
   "outputs": [
    {
     "data": {
      "text/plain": [
       "array([190.,  46.,  75.,  92., 115.,  80.,  75.,  81.,  96.,  95., 175.,\n",
       "        74.,  48.,  70., 170.,  96., 208.,  65., 105.,  70.,  85.,  85.,\n",
       "       148.,  68.,  60., 158., 149.,  67.,  85.,  81.,  83., 110.,  76.,\n",
       "        54.,  90., 150.,  65.,  92., 110., 150., 100., 200.,  88.,  76.,\n",
       "       145., 100.,  52.,  88.,  75.,  67., 110.,  78.,  85., 112.,  95.,\n",
       "       100.,  65.,  76.,  75., 110.,  65.,  97., 112., 153., 150.,  90.,\n",
       "        80.,  90.,  68.,  88.,  98.,  78.,  97.,  97.,  85., 138., 140.,\n",
       "       180.,  95.,  74.,  68., 100.,  79., 150.,  79., 130., 110.,  85.,\n",
       "        70., 110., 110.,  72., 108., 150., 110.,  88.,  78.,  72.,  70.,\n",
       "        58., 198., 150., 100., 150.,  71.,  68.,  67.,  80.,  88., 215.,\n",
       "        62.,  67., 110.,  70.,  75., 140.,  69.,  97.,  86., 150.,  90.,\n",
       "       180.,  71., 215., 145.,  84.,  70., 115.,  83.,  72., 140.,  90.,\n",
       "       122., 150.,  95., 198.,  86.,  75.,  90.,  90.,  90.,  95.,  77.,\n",
       "       100.,  78.,  84., 110.,  63.,  70.,  80., 142.,  48.,  67., 193.,\n",
       "        65., 155.,  90., 140.,  67.,  65.,  90.,  86.,  90., 102.,  75.,\n",
       "        60.,  90.,  78.,  52., 175., 150., 155.,  69., 140., 112., 145.,\n",
       "        60., 100.,  83.,  65., 230.,  69., 105., 105.,  67., 130.,  75.,\n",
       "       105.,  65., 100.,  80.,  70.,  63., 100., 100.,  90.])"
      ]
     },
     "execution_count": 82,
     "metadata": {},
     "output_type": "execute_result"
    }
   ],
   "source": [
    "from sklearn.linear_model import LinearRegression\n",
    "\n",
    "model = LinearRegression()\n",
    "model.fit(train_set.horsepower.values.reshape(-1, 1), train_set.mpg)\n",
    "mpg_pred = model.predict(test_set.horsepower.values.reshape(-1, 1))"
   ]
  },
  {
   "cell_type": "code",
   "execution_count": 69,
   "metadata": {},
   "outputs": [
    {
     "name": "stdout",
     "output_type": "stream",
     "text": [
      "The MSE is: 24.8\n",
      "The RMSE is: 4.98\n"
     ]
    }
   ],
   "source": [
    "# calculate MSE and RMSE\n",
    "from sklearn import metrics\n",
    "\n",
    "print (\"The MSE is: {:.3}\".format( metrics.mean_squared_error(test_set.mpg, mpg_pred) )  )\n",
    "print (\"The RMSE is: {:.3}\".format( np.sqrt( metrics.mean_squared_error(test_set.mpg, mpg_pred))))"
   ]
  },
  {
   "cell_type": "code",
   "execution_count": 72,
   "metadata": {},
   "outputs": [
    {
     "data": {
      "text/plain": [
       "<matplotlib.text.Text at 0x10ef20898>"
      ]
     },
     "execution_count": 72,
     "metadata": {},
     "output_type": "execute_result"
    },
    {
     "data": {
      "image/png": "[encoded data removed]",
      "text/plain": [
       "<matplotlib.figure.Figure at 0x10ef1bda0>"
      ]
     },
     "metadata": {},
     "output_type": "display_data"
    }
   ],
   "source": [
    "plt.plot(test_set.mpg, mpg_pred, '.')\n",
    "plt.plot((5,30),(5,30))\n",
    "plt.xlabel('true mpg')\n",
    "plt.ylabel('estimated mpg')"
   ]
  },
  {
   "cell_type": "markdown",
   "metadata": {},
   "source": [
    "### [TODO] Re-fit with higher order polynomials  and compare MSEs"
   ]
  },
  {
   "cell_type": "markdown",
   "metadata": {},
   "source": [
    "## 5.3.2 Leave-One-Out Cross-Validation"
   ]
  },
  {
   "cell_type": "code",
   "execution_count": 116,
   "metadata": {},
   "outputs": [
    {
     "name": "stdout",
     "output_type": "stream",
     "text": [
      "24.231513517929226\n"
     ]
    },
    {
     "data": {
      "image/png": "[encoded data removed]",
      "text/plain": [
       "<matplotlib.figure.Figure at 0x10ed36438>"
      ]
     },
     "metadata": {},
     "output_type": "display_data"
    }
   ],
   "source": [
    "from sklearn.model_selection import LeaveOneOut\n",
    "# http://scikit-learn.org/stable/modules/generated/sklearn.model_selection.LeaveOneOut.html\n",
    "# http://scikit-learn.org/stable/modules/cross_validation.html#cross-validation\n",
    "\n",
    "model = LinearRegression()\n",
    "    \n",
    "loo = LeaveOneOut()\n",
    "MSEs = list()\n",
    "for train_idx, test_idx in loo.split(Auto):\n",
    "    #print(\"%s %s\" % (train_idx, test_idx))\n",
    "\n",
    "    # split the data into two \n",
    "    train_set = Auto.iloc[train_idx]\n",
    "    test_set = Auto.iloc[test_idx]\n",
    "    \n",
    "    model.fit(train_set.horsepower.values.reshape(-1, 1), train_set.mpg)\n",
    "    mpg_pred = model.predict(test_set.horsepower.values.reshape(-1, 1))\n",
    "\n",
    "    MSEs.append(metrics.mean_squared_error(test_set.mpg, mpg_pred))\n",
    "\n",
    "\n",
    "# plot histogram\n",
    "plt.hist(MSEs)\n",
    "\n",
    "# calc mean\n",
    "print(np.mean(MSEs))\n",
    "\n",
    "\n"
   ]
  },
  {
   "cell_type": "markdown",
   "metadata": {},
   "source": [
    "## 5.3.3 k-Fold Cross-Validation"
   ]
  },
  {
   "cell_type": "code",
   "execution_count": 121,
   "metadata": {},
   "outputs": [
    {
     "name": "stdout",
     "output_type": "stream",
     "text": [
      "24.40138940058588\n"
     ]
    },
    {
     "data": {
      "image/png": "[encoded data removed]",
      "text/plain": [
       "<matplotlib.figure.Figure at 0x10f830320>"
      ]
     },
     "metadata": {},
     "output_type": "display_data"
    }
   ],
   "source": [
    "from sklearn.model_selection import KFold\n",
    "# http://scikit-learn.org/stable/modules/generated/sklearn.model_selection.KFold.html  \n",
    "# http://scikit-learn.org/stable/modules/cross_validation.html#cross-validation\n",
    "\n",
    "model = LinearRegression()\n",
    "    \n",
    "kf = KFold(n_splits=10, shuffle=True)\n",
    "\n",
    "MSEs = list()\n",
    "for train_idx, test_idx in kf.split(Auto):\n",
    "    #print(\"%s %s\" % (train_idx, test_idx))\n",
    "\n",
    "    # split the data into two \n",
    "    train_set = Auto.iloc[train_idx]\n",
    "    test_set = Auto.iloc[test_idx]\n",
    "    \n",
    "    model.fit(train_set.horsepower.values.reshape(-1, 1), train_set.mpg)\n",
    "    mpg_pred = model.predict(test_set.horsepower.values.reshape(-1, 1))\n",
    "\n",
    "    MSEs.append(metrics.mean_squared_error(test_set.mpg, mpg_pred))\n",
    "\n",
    "\n",
    "# plot histogram\n",
    "plt.hist(MSEs)\n",
    "\n",
    "# calc mean\n",
    "print(np.mean(MSEs))\n",
    "\n"
   ]
  },
  {
   "cell_type": "markdown",
   "metadata": {},
   "source": [
    "### Short version using sklearn!"
   ]
  },
  {
   "cell_type": "code",
   "execution_count": 87,
   "metadata": {},
   "outputs": [
    {
     "name": "stdout",
     "output_type": "stream",
     "text": [
      "[28.34783584 17.22640854 26.92535793 23.36016122 15.55763304 17.89383456\n",
      " 17.04476867 22.83657872 65.93489567 39.27186233]\n",
      "10-Fold CV MSE = 27.440\n"
     ]
    }
   ],
   "source": [
    "from sklearn.model_selection import cross_val_score\n",
    "# http://scikit-learn.org/stable/modules/generated/sklearn.model_selection.cross_val_score.html\n",
    "# http://scikit-learn.org/stable/modules/cross_validation.html#cross-validation\n",
    "\n",
    "model = LinearRegression()\n",
    "scores = cross_val_score(model, Auto.horsepower.values.reshape(-1, 1), Auto.mpg, cv=10, scoring='neg_mean_squared_error')\n",
    "mse_scores = -scores\n",
    "print(mse_scores)\n",
    "print(\"10-Fold CV MSE = %.3f\" % (np.array(mse_scores).mean()))"
   ]
  },
  {
   "cell_type": "markdown",
   "metadata": {},
   "source": [
    "### [TODO] Re-fit with higher order polynomials  and compare MSEs"
   ]
  },
  {
   "cell_type": "markdown",
   "metadata": {},
   "source": [
    "## 5.3.4 The Bootstrap"
   ]
  },
  {
   "cell_type": "code",
   "execution_count": 125,
   "metadata": {},
   "outputs": [
    {
     "data": {
      "text/html": [
       "<div>\n",
       "<style scoped>\n",
       "    .dataframe tbody tr th:only-of-type {\n",
       "        vertical-align: middle;\n",
       "    }\n",
       "\n",
       "    .dataframe tbody tr th {\n",
       "        vertical-align: top;\n",
       "    }\n",
       "\n",
       "    .dataframe thead th {\n",
       "        text-align: right;\n",
       "    }\n",
       "</style>\n",
       "<table border=\"1\" class=\"dataframe\">\n",
       "  <thead>\n",
       "    <tr style=\"text-align: right;\">\n",
       "      <th></th>\n",
       "      <th>X</th>\n",
       "      <th>Y</th>\n",
       "    </tr>\n",
       "  </thead>\n",
       "  <tbody>\n",
       "    <tr>\n",
       "      <th>1</th>\n",
       "      <td>-0.895251</td>\n",
       "      <td>-0.234924</td>\n",
       "    </tr>\n",
       "    <tr>\n",
       "      <th>2</th>\n",
       "      <td>-1.562454</td>\n",
       "      <td>-0.885176</td>\n",
       "    </tr>\n",
       "    <tr>\n",
       "      <th>3</th>\n",
       "      <td>-0.417090</td>\n",
       "      <td>0.271888</td>\n",
       "    </tr>\n",
       "    <tr>\n",
       "      <th>4</th>\n",
       "      <td>1.044356</td>\n",
       "      <td>-0.734198</td>\n",
       "    </tr>\n",
       "    <tr>\n",
       "      <th>5</th>\n",
       "      <td>-0.315568</td>\n",
       "      <td>0.841983</td>\n",
       "    </tr>\n",
       "  </tbody>\n",
       "</table>\n",
       "</div>"
      ],
      "text/plain": [
       "          X         Y\n",
       "1 -0.895251 -0.234924\n",
       "2 -1.562454 -0.885176\n",
       "3 -0.417090  0.271888\n",
       "4  1.044356 -0.734198\n",
       "5 -0.315568  0.841983"
      ]
     },
     "execution_count": 125,
     "metadata": {},
     "output_type": "execute_result"
    }
   ],
   "source": [
    "# load Portfolio dataset\n",
    "Portfolio = pd.read_csv(\"data/Portfolio.csv\", index_col=0)\n",
    "Portfolio.head()"
   ]
  },
  {
   "cell_type": "code",
   "execution_count": 152,
   "metadata": {
    "collapsed": true
   },
   "outputs": [],
   "source": [
    "# function to estimate alpha from data pairs (X,Y)\n",
    "def estimate_alpha(data,index):\n",
    "    # select data by index\n",
    "    X=data.iloc[index].X\n",
    "    Y=data.iloc[index].Y\n",
    "    \n",
    "    # calc variance and covariance\n",
    "    covMat = np.cov(X,Y)\n",
    "    varX = covMat[0][0]\n",
    "    varY = covMat[1][1]\n",
    "    covXY = covMat[0][1]\n",
    "\n",
    "    return((varY-covXY)/(varX+varY-2*covXY))\n"
   ]
  },
  {
   "cell_type": "code",
   "execution_count": 161,
   "metadata": {},
   "outputs": [
    {
     "data": {
      "text/plain": [
       "0.57583207459283"
      ]
     },
     "execution_count": 161,
     "metadata": {},
     "output_type": "execute_result"
    }
   ],
   "source": [
    "# estimate alpha using all the samples\n",
    "estimate_alpha(Portfolio, range(100))"
   ]
  },
  {
   "cell_type": "code",
   "execution_count": 181,
   "metadata": {},
   "outputs": [
    {
     "name": "stdout",
     "output_type": "stream",
     "text": [
      "0.5768849449865131\n",
      "0.09224763427493565\n"
     ]
    },
    {
     "data": {
      "image/png": "[encoded data removed]",
      "text/plain": [
       "<matplotlib.figure.Figure at 0x10f6d5f28>"
      ]
     },
     "metadata": {},
     "output_type": "display_data"
    }
   ],
   "source": [
    "# repeat B=1000 times random sample with replacement\n",
    "B=1000\n",
    "alphas=list()\n",
    "for b in range(B):\n",
    "    index = np.random.choice(range(100),100)\n",
    "    alphas.append(estimate_alpha(Portfolio,index))\n",
    "\n",
    "# plot histogram of estimates\n",
    "plt.hist(alphas)\n",
    "\n",
    "# mean and std of estimates \n",
    "print(np.mean(alphas))\n",
    "print(np.std(alphas))"
   ]
  },
  {
   "cell_type": "code",
   "execution_count": 182,
   "metadata": {},
   "outputs": [],
   "source": [
    "## [ToDo] Calculate bootstrap standard errors of linear regression for Auto data"
   ]
  },
  {
   "cell_type": "code",
   "execution_count": null,
   "metadata": {
    "collapsed": true
   },
   "outputs": [],
   "source": []
  }
 ],
 "metadata": {
  "kernelspec": {
   "display_name": "Python 3",
   "language": "python",
   "name": "python3"
  },
  "language_info": {
   "codemirror_mode": {
    "name": "ipython",
    "version": 3
   },
   "file_extension": ".py",
   "mimetype": "text/x-python",
   "name": "python",
   "nbconvert_exporter": "python",
   "pygments_lexer": "ipython3",
   "version": "3.6.4"
  }
 },
 "nbformat": 4,
 "nbformat_minor": 2
}
